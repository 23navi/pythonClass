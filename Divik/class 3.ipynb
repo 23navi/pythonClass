{
 "cells": [
  {
   "cell_type": "code",
   "execution_count": 1,
   "id": "b4b0e43b",
   "metadata": {},
   "outputs": [
    {
     "name": "stdout",
     "output_type": "stream",
     "text": [
      "number likh=2\n",
      "type u want=2\n",
      "<class 'str'>\n",
      "list u want=2\n",
      "12.56\n"
     ]
    }
   ],
   "source": [
    "a=(\"1\",\"2\",\"3\",\"4\")\n",
    "pi=3.14\n",
    "r= int(input(\"number likh=\"))\n",
    "print (type(input(\"type u want=\")))\n",
    "a[int(input(\"list u want=\"))]\n",
    "print (pi*(r**2))\n",
    "\n",
    "       "
   ]
  },
  {
   "cell_type": "code",
   "execution_count": null,
   "id": "dab5a7bf",
   "metadata": {},
   "outputs": [],
   "source": []
  },
  {
   "cell_type": "code",
   "execution_count": null,
   "id": "33568622",
   "metadata": {},
   "outputs": [],
   "source": []
  }
 ],
 "metadata": {
  "kernelspec": {
   "display_name": "Python 3 (ipykernel)",
   "language": "python",
   "name": "python3"
  },
  "language_info": {
   "codemirror_mode": {
    "name": "ipython",
    "version": 3
   },
   "file_extension": ".py",
   "mimetype": "text/x-python",
   "name": "python",
   "nbconvert_exporter": "python",
   "pygments_lexer": "ipython3",
   "version": "3.9.12"
  }
 },
 "nbformat": 4,
 "nbformat_minor": 5
}
