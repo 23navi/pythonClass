{
 "cells": [
  {
   "cell_type": "code",
   "execution_count": 1,
   "id": "29cd9c9b",
   "metadata": {},
   "outputs": [],
   "source": [
    "#this is first"
   ]
  },
  {
   "cell_type": "code",
   "execution_count": null,
   "id": "6fe062fb",
   "metadata": {},
   "outputs": [],
   "source": []
  }
 ],
 "metadata": {
  "kernelspec": {
   "display_name": "Python 3 (ipykernel)",
   "language": "python",
   "name": "python3"
  },
  "language_info": {
   "codemirror_mode": {
    "name": "ipython",
    "version": 3
   },
   "file_extension": ".py",
   "mimetype": "text/x-python",
   "name": "python",
   "nbconvert_exporter": "python",
   "pygments_lexer": "ipython3",
   "version": "3.9.12"
  }
 },
 "nbformat": 4,
 "nbformat_minor": 5
}
